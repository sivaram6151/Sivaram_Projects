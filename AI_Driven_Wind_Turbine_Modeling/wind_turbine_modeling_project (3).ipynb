{
  "cells": [
    {
      "cell_type": "markdown",
      "id": "f246f7a2",
      "metadata": {
        "papermill": {
          "duration": 0.01239,
          "end_time": "2024-07-17T18:22:58.466476",
          "exception": false,
          "start_time": "2024-07-17T18:22:58.454086",
          "status": "completed"
        },
        "tags": [],
        "id": "f246f7a2"
      },
      "source": [
        "# Import Packages"
      ]
    },
    {
      "cell_type": "code",
      "execution_count": 62,
      "id": "b128283a",
      "metadata": {
        "execution": {
          "iopub.execute_input": "2024-07-17T18:22:58.489400Z",
          "iopub.status.busy": "2024-07-17T18:22:58.488209Z",
          "iopub.status.idle": "2024-07-17T18:22:59.987057Z",
          "shell.execute_reply": "2024-07-17T18:22:59.985979Z"
        },
        "papermill": {
          "duration": 1.512289,
          "end_time": "2024-07-17T18:22:59.989756",
          "exception": false,
          "start_time": "2024-07-17T18:22:58.477467",
          "status": "completed"
        },
        "tags": [],
        "id": "b128283a"
      },
      "outputs": [],
      "source": [
        "import pandas as pd\n",
        "from sklearn.preprocessing import StandardScaler\n",
        "import numpy as np\n",
        "import matplotlib.pyplot as plt\n",
        "import seaborn as sns"
      ]
    },
    {
      "cell_type": "markdown",
      "id": "859c81a0",
      "metadata": {
        "papermill": {
          "duration": 0.009191,
          "end_time": "2024-07-17T18:23:00.078392",
          "exception": false,
          "start_time": "2024-07-17T18:23:00.069201",
          "status": "completed"
        },
        "tags": [],
        "id": "859c81a0"
      },
      "source": [
        "# Data Analysis"
      ]
    },
    {
      "cell_type": "code",
      "execution_count": 63,
      "id": "881ec063",
      "metadata": {
        "execution": {
          "iopub.execute_input": "2024-07-17T18:23:00.099229Z",
          "iopub.status.busy": "2024-07-17T18:23:00.098826Z",
          "iopub.status.idle": "2024-07-17T18:23:00.264879Z",
          "shell.execute_reply": "2024-07-17T18:23:00.263790Z"
        },
        "papermill": {
          "duration": 0.179542,
          "end_time": "2024-07-17T18:23:00.267442",
          "exception": false,
          "start_time": "2024-07-17T18:23:00.087900",
          "status": "completed"
        },
        "tags": [],
        "id": "881ec063"
      },
      "outputs": [],
      "source": [
        "data = pd.read_csv(\"/content/T1.csv\")"
      ]
    },
    {
      "cell_type": "code",
      "execution_count": 64,
      "id": "e13a2a16",
      "metadata": {
        "execution": {
          "iopub.execute_input": "2024-07-17T18:23:00.288998Z",
          "iopub.status.busy": "2024-07-17T18:23:00.288145Z",
          "iopub.status.idle": "2024-07-17T18:23:00.302114Z",
          "shell.execute_reply": "2024-07-17T18:23:00.300901Z"
        },
        "papermill": {
          "duration": 0.027621,
          "end_time": "2024-07-17T18:23:00.304531",
          "exception": false,
          "start_time": "2024-07-17T18:23:00.276910",
          "status": "completed"
        },
        "tags": [],
        "colab": {
          "base_uri": "https://localhost:8080/"
        },
        "id": "e13a2a16",
        "outputId": "afc46ed5-0890-4dc6-8b55-9e3f8edbe276"
      },
      "outputs": [
        {
          "output_type": "stream",
          "name": "stdout",
          "text": [
            "How many observations do we have?\n",
            "Date/Time                        50530\n",
            "LV ActivePower (kW)              50530\n",
            "Wind Speed (m/s)                 50530\n",
            "Theoretical_Power_Curve (KWh)    50530\n",
            "Wind Direction (°)               50530\n",
            "dtype: int64\n",
            "----------------\n",
            "Index(['Date/Time', 'LV ActivePower (kW)', 'Wind Speed (m/s)',\n",
            "       'Theoretical_Power_Curve (KWh)', 'Wind Direction (°)'],\n",
            "      dtype='object')\n"
          ]
        }
      ],
      "source": [
        "print('How many observations do we have?')\n",
        "print(data.count())\n",
        "print('----------------')\n",
        "print(data.columns)\n"
      ]
    },
    {
      "cell_type": "code",
      "source": [
        "data['Date/Time']=pd.to_datetime(data['Date/Time'],format='%d %m %Y %H:%M')\n",
        "data['Week']=data['Date/Time'].dt.day // 7 + 1\n",
        "\n",
        "data['Week'].value_counts()"
      ],
      "metadata": {
        "colab": {
          "base_uri": "https://localhost:8080/",
          "height": 0
        },
        "id": "ji6LueoUcStM",
        "outputId": "9dcca1ca-a7a1-4abb-a761-1ea04d70ce42"
      },
      "id": "ji6LueoUcStM",
      "execution_count": 65,
      "outputs": [
        {
          "output_type": "execute_result",
          "data": {
            "text/plain": [
              "Week\n",
              "3    11948\n",
              "4    11809\n",
              "2    11645\n",
              "1     9924\n",
              "5     5204\n",
              "Name: count, dtype: int64"
            ],
            "text/html": [
              "<div>\n",
              "<style scoped>\n",
              "    .dataframe tbody tr th:only-of-type {\n",
              "        vertical-align: middle;\n",
              "    }\n",
              "\n",
              "    .dataframe tbody tr th {\n",
              "        vertical-align: top;\n",
              "    }\n",
              "\n",
              "    .dataframe thead th {\n",
              "        text-align: right;\n",
              "    }\n",
              "</style>\n",
              "<table border=\"1\" class=\"dataframe\">\n",
              "  <thead>\n",
              "    <tr style=\"text-align: right;\">\n",
              "      <th></th>\n",
              "      <th>count</th>\n",
              "    </tr>\n",
              "    <tr>\n",
              "      <th>Week</th>\n",
              "      <th></th>\n",
              "    </tr>\n",
              "  </thead>\n",
              "  <tbody>\n",
              "    <tr>\n",
              "      <th>3</th>\n",
              "      <td>11948</td>\n",
              "    </tr>\n",
              "    <tr>\n",
              "      <th>4</th>\n",
              "      <td>11809</td>\n",
              "    </tr>\n",
              "    <tr>\n",
              "      <th>2</th>\n",
              "      <td>11645</td>\n",
              "    </tr>\n",
              "    <tr>\n",
              "      <th>1</th>\n",
              "      <td>9924</td>\n",
              "    </tr>\n",
              "    <tr>\n",
              "      <th>5</th>\n",
              "      <td>5204</td>\n",
              "    </tr>\n",
              "  </tbody>\n",
              "</table>\n",
              "</div><br><label><b>dtype:</b> int64</label>"
            ]
          },
          "metadata": {},
          "execution_count": 65
        }
      ]
    },
    {
      "cell_type": "markdown",
      "source": [
        "### Extracting Seasons, month, hour and Day"
      ],
      "metadata": {
        "id": "zIKG2Glge_sD"
      },
      "id": "zIKG2Glge_sD"
    },
    {
      "cell_type": "code",
      "source": [
        "data['Month']=data['Date/Time'].dt.month\n",
        "seasons_dict = {1: 'Winter', 2: 'Winter', 3: 'Spring', 4: 'Spring', 5: 'Spring', 6: 'Summer', 7: 'Summer', 8: 'Summer', 9: 'Autumn', 10: 'Autumn', 11: 'Autumn', 12: 'Winter'}\n",
        "data['Seasons'] = data['Month'].map(seasons_dict)\n",
        "data['Day']=data['Date/Time'].dt.day\n",
        "data['Hour']=data['Date/Time'].dt.hour\n",
        "##data.drop(columns=['Date/Time'],inplace=True)\n"
      ],
      "metadata": {
        "id": "dV3eFdZSd6QC"
      },
      "id": "dV3eFdZSd6QC",
      "execution_count": 66,
      "outputs": []
    },
    {
      "cell_type": "markdown",
      "source": [
        "# Failure Condition"
      ],
      "metadata": {
        "id": "1aXlUUBYm8kc"
      },
      "id": "1aXlUUBYm8kc"
    },
    {
      "cell_type": "code",
      "source": [
        "def failure_condition(row):\n",
        "    # Check the conditions\n",
        "    if (row['LV ActivePower (kW)'] == 0 and\n",
        "        row['Theoretical_Power_Curve (KWh)'] != 0 and\n",
        "        row['Wind Speed (m/s)'] > 3.0 and\n",
        "        ((0 <= row['Wind Direction (°)'] <= 90) or (135 <= row['Wind Direction (°)'] <= 270))):\n",
        "        return 1\n",
        "    else:\n",
        "        return 0\n",
        "data['Failure Condition'] = data.apply(failure_condition, axis=1)\n",
        "\n",
        "# Display the first few rows of the updated data\n",
        "print(data.head())\n",
        "\n",
        "# Print the number of observations that meet the failure condition\n",
        "failure_count = data['Failure Condition'].sum()\n",
        "print('No of Observations (while Wind Speed > 3 m/s and Power Production = 0 and Wind Direction = [0, 90] or [135, 270]): ', failure_count)"
      ],
      "metadata": {
        "colab": {
          "base_uri": "https://localhost:8080/"
        },
        "id": "59gS3xy3m77w",
        "outputId": "abfbd5f6-9b9c-4db2-e34a-99517522844f"
      },
      "id": "59gS3xy3m77w",
      "execution_count": 67,
      "outputs": [
        {
          "output_type": "stream",
          "name": "stdout",
          "text": [
            "            Date/Time  LV ActivePower (kW)  Wind Speed (m/s)  \\\n",
            "0 2018-01-01 00:00:00           380.047791          5.311336   \n",
            "1 2018-01-01 00:10:00           453.769196          5.672167   \n",
            "2 2018-01-01 00:20:00           306.376587          5.216037   \n",
            "3 2018-01-01 00:30:00           419.645905          5.659674   \n",
            "4 2018-01-01 00:40:00           380.650696          5.577941   \n",
            "\n",
            "   Theoretical_Power_Curve (KWh)  Wind Direction (°)  Week  Month Seasons  \\\n",
            "0                     416.328908          259.994904     1      1  Winter   \n",
            "1                     519.917511          268.641113     1      1  Winter   \n",
            "2                     390.900016          272.564789     1      1  Winter   \n",
            "3                     516.127569          271.258087     1      1  Winter   \n",
            "4                     491.702972          265.674286     1      1  Winter   \n",
            "\n",
            "   Day  Hour  Failure Condition  \n",
            "0    1     0                  0  \n",
            "1    1     0                  0  \n",
            "2    1     0                  0  \n",
            "3    1     0                  0  \n",
            "4    1     0                  0  \n",
            "No of Observations (while Wind Speed > 3 m/s and Power Production = 0 and Wind Direction = [0, 90] or [135, 270]):  2844\n"
          ]
        }
      ]
    },
    {
      "cell_type": "code",
      "source": [
        "data.head()"
      ],
      "metadata": {
        "colab": {
          "base_uri": "https://localhost:8080/",
          "height": 206
        },
        "id": "5ZJuXxJfnfVo",
        "outputId": "4309aa68-11f5-473c-a4bd-a28076c76548"
      },
      "id": "5ZJuXxJfnfVo",
      "execution_count": 68,
      "outputs": [
        {
          "output_type": "execute_result",
          "data": {
            "text/plain": [
              "            Date/Time  LV ActivePower (kW)  Wind Speed (m/s)  \\\n",
              "0 2018-01-01 00:00:00           380.047791          5.311336   \n",
              "1 2018-01-01 00:10:00           453.769196          5.672167   \n",
              "2 2018-01-01 00:20:00           306.376587          5.216037   \n",
              "3 2018-01-01 00:30:00           419.645905          5.659674   \n",
              "4 2018-01-01 00:40:00           380.650696          5.577941   \n",
              "\n",
              "   Theoretical_Power_Curve (KWh)  Wind Direction (°)  Week  Month Seasons  \\\n",
              "0                     416.328908          259.994904     1      1  Winter   \n",
              "1                     519.917511          268.641113     1      1  Winter   \n",
              "2                     390.900016          272.564789     1      1  Winter   \n",
              "3                     516.127569          271.258087     1      1  Winter   \n",
              "4                     491.702972          265.674286     1      1  Winter   \n",
              "\n",
              "   Day  Hour  Failure Condition  \n",
              "0    1     0                  0  \n",
              "1    1     0                  0  \n",
              "2    1     0                  0  \n",
              "3    1     0                  0  \n",
              "4    1     0                  0  "
            ],
            "text/html": [
              "\n",
              "  <div id=\"df-a7845d05-b360-4816-a763-282242cc15ec\" class=\"colab-df-container\">\n",
              "    <div>\n",
              "<style scoped>\n",
              "    .dataframe tbody tr th:only-of-type {\n",
              "        vertical-align: middle;\n",
              "    }\n",
              "\n",
              "    .dataframe tbody tr th {\n",
              "        vertical-align: top;\n",
              "    }\n",
              "\n",
              "    .dataframe thead th {\n",
              "        text-align: right;\n",
              "    }\n",
              "</style>\n",
              "<table border=\"1\" class=\"dataframe\">\n",
              "  <thead>\n",
              "    <tr style=\"text-align: right;\">\n",
              "      <th></th>\n",
              "      <th>Date/Time</th>\n",
              "      <th>LV ActivePower (kW)</th>\n",
              "      <th>Wind Speed (m/s)</th>\n",
              "      <th>Theoretical_Power_Curve (KWh)</th>\n",
              "      <th>Wind Direction (°)</th>\n",
              "      <th>Week</th>\n",
              "      <th>Month</th>\n",
              "      <th>Seasons</th>\n",
              "      <th>Day</th>\n",
              "      <th>Hour</th>\n",
              "      <th>Failure Condition</th>\n",
              "    </tr>\n",
              "  </thead>\n",
              "  <tbody>\n",
              "    <tr>\n",
              "      <th>0</th>\n",
              "      <td>2018-01-01 00:00:00</td>\n",
              "      <td>380.047791</td>\n",
              "      <td>5.311336</td>\n",
              "      <td>416.328908</td>\n",
              "      <td>259.994904</td>\n",
              "      <td>1</td>\n",
              "      <td>1</td>\n",
              "      <td>Winter</td>\n",
              "      <td>1</td>\n",
              "      <td>0</td>\n",
              "      <td>0</td>\n",
              "    </tr>\n",
              "    <tr>\n",
              "      <th>1</th>\n",
              "      <td>2018-01-01 00:10:00</td>\n",
              "      <td>453.769196</td>\n",
              "      <td>5.672167</td>\n",
              "      <td>519.917511</td>\n",
              "      <td>268.641113</td>\n",
              "      <td>1</td>\n",
              "      <td>1</td>\n",
              "      <td>Winter</td>\n",
              "      <td>1</td>\n",
              "      <td>0</td>\n",
              "      <td>0</td>\n",
              "    </tr>\n",
              "    <tr>\n",
              "      <th>2</th>\n",
              "      <td>2018-01-01 00:20:00</td>\n",
              "      <td>306.376587</td>\n",
              "      <td>5.216037</td>\n",
              "      <td>390.900016</td>\n",
              "      <td>272.564789</td>\n",
              "      <td>1</td>\n",
              "      <td>1</td>\n",
              "      <td>Winter</td>\n",
              "      <td>1</td>\n",
              "      <td>0</td>\n",
              "      <td>0</td>\n",
              "    </tr>\n",
              "    <tr>\n",
              "      <th>3</th>\n",
              "      <td>2018-01-01 00:30:00</td>\n",
              "      <td>419.645905</td>\n",
              "      <td>5.659674</td>\n",
              "      <td>516.127569</td>\n",
              "      <td>271.258087</td>\n",
              "      <td>1</td>\n",
              "      <td>1</td>\n",
              "      <td>Winter</td>\n",
              "      <td>1</td>\n",
              "      <td>0</td>\n",
              "      <td>0</td>\n",
              "    </tr>\n",
              "    <tr>\n",
              "      <th>4</th>\n",
              "      <td>2018-01-01 00:40:00</td>\n",
              "      <td>380.650696</td>\n",
              "      <td>5.577941</td>\n",
              "      <td>491.702972</td>\n",
              "      <td>265.674286</td>\n",
              "      <td>1</td>\n",
              "      <td>1</td>\n",
              "      <td>Winter</td>\n",
              "      <td>1</td>\n",
              "      <td>0</td>\n",
              "      <td>0</td>\n",
              "    </tr>\n",
              "  </tbody>\n",
              "</table>\n",
              "</div>\n",
              "    <div class=\"colab-df-buttons\">\n",
              "\n",
              "  <div class=\"colab-df-container\">\n",
              "    <button class=\"colab-df-convert\" onclick=\"convertToInteractive('df-a7845d05-b360-4816-a763-282242cc15ec')\"\n",
              "            title=\"Convert this dataframe to an interactive table.\"\n",
              "            style=\"display:none;\">\n",
              "\n",
              "  <svg xmlns=\"http://www.w3.org/2000/svg\" height=\"24px\" viewBox=\"0 -960 960 960\">\n",
              "    <path d=\"M120-120v-720h720v720H120Zm60-500h600v-160H180v160Zm220 220h160v-160H400v160Zm0 220h160v-160H400v160ZM180-400h160v-160H180v160Zm440 0h160v-160H620v160ZM180-180h160v-160H180v160Zm440 0h160v-160H620v160Z\"/>\n",
              "  </svg>\n",
              "    </button>\n",
              "\n",
              "  <style>\n",
              "    .colab-df-container {\n",
              "      display:flex;\n",
              "      gap: 12px;\n",
              "    }\n",
              "\n",
              "    .colab-df-convert {\n",
              "      background-color: #E8F0FE;\n",
              "      border: none;\n",
              "      border-radius: 50%;\n",
              "      cursor: pointer;\n",
              "      display: none;\n",
              "      fill: #1967D2;\n",
              "      height: 32px;\n",
              "      padding: 0 0 0 0;\n",
              "      width: 32px;\n",
              "    }\n",
              "\n",
              "    .colab-df-convert:hover {\n",
              "      background-color: #E2EBFA;\n",
              "      box-shadow: 0px 1px 2px rgba(60, 64, 67, 0.3), 0px 1px 3px 1px rgba(60, 64, 67, 0.15);\n",
              "      fill: #174EA6;\n",
              "    }\n",
              "\n",
              "    .colab-df-buttons div {\n",
              "      margin-bottom: 4px;\n",
              "    }\n",
              "\n",
              "    [theme=dark] .colab-df-convert {\n",
              "      background-color: #3B4455;\n",
              "      fill: #D2E3FC;\n",
              "    }\n",
              "\n",
              "    [theme=dark] .colab-df-convert:hover {\n",
              "      background-color: #434B5C;\n",
              "      box-shadow: 0px 1px 3px 1px rgba(0, 0, 0, 0.15);\n",
              "      filter: drop-shadow(0px 1px 2px rgba(0, 0, 0, 0.3));\n",
              "      fill: #FFFFFF;\n",
              "    }\n",
              "  </style>\n",
              "\n",
              "    <script>\n",
              "      const buttonEl =\n",
              "        document.querySelector('#df-a7845d05-b360-4816-a763-282242cc15ec button.colab-df-convert');\n",
              "      buttonEl.style.display =\n",
              "        google.colab.kernel.accessAllowed ? 'block' : 'none';\n",
              "\n",
              "      async function convertToInteractive(key) {\n",
              "        const element = document.querySelector('#df-a7845d05-b360-4816-a763-282242cc15ec');\n",
              "        const dataTable =\n",
              "          await google.colab.kernel.invokeFunction('convertToInteractive',\n",
              "                                                    [key], {});\n",
              "        if (!dataTable) return;\n",
              "\n",
              "        const docLinkHtml = 'Like what you see? Visit the ' +\n",
              "          '<a target=\"_blank\" href=https://colab.research.google.com/notebooks/data_table.ipynb>data table notebook</a>'\n",
              "          + ' to learn more about interactive tables.';\n",
              "        element.innerHTML = '';\n",
              "        dataTable['output_type'] = 'display_data';\n",
              "        await google.colab.output.renderOutput(dataTable, element);\n",
              "        const docLink = document.createElement('div');\n",
              "        docLink.innerHTML = docLinkHtml;\n",
              "        element.appendChild(docLink);\n",
              "      }\n",
              "    </script>\n",
              "  </div>\n",
              "\n",
              "\n",
              "<div id=\"df-210fa0c3-15c4-47b1-ac0c-8966fe796f68\">\n",
              "  <button class=\"colab-df-quickchart\" onclick=\"quickchart('df-210fa0c3-15c4-47b1-ac0c-8966fe796f68')\"\n",
              "            title=\"Suggest charts\"\n",
              "            style=\"display:none;\">\n",
              "\n",
              "<svg xmlns=\"http://www.w3.org/2000/svg\" height=\"24px\"viewBox=\"0 0 24 24\"\n",
              "     width=\"24px\">\n",
              "    <g>\n",
              "        <path d=\"M19 3H5c-1.1 0-2 .9-2 2v14c0 1.1.9 2 2 2h14c1.1 0 2-.9 2-2V5c0-1.1-.9-2-2-2zM9 17H7v-7h2v7zm4 0h-2V7h2v10zm4 0h-2v-4h2v4z\"/>\n",
              "    </g>\n",
              "</svg>\n",
              "  </button>\n",
              "\n",
              "<style>\n",
              "  .colab-df-quickchart {\n",
              "      --bg-color: #E8F0FE;\n",
              "      --fill-color: #1967D2;\n",
              "      --hover-bg-color: #E2EBFA;\n",
              "      --hover-fill-color: #174EA6;\n",
              "      --disabled-fill-color: #AAA;\n",
              "      --disabled-bg-color: #DDD;\n",
              "  }\n",
              "\n",
              "  [theme=dark] .colab-df-quickchart {\n",
              "      --bg-color: #3B4455;\n",
              "      --fill-color: #D2E3FC;\n",
              "      --hover-bg-color: #434B5C;\n",
              "      --hover-fill-color: #FFFFFF;\n",
              "      --disabled-bg-color: #3B4455;\n",
              "      --disabled-fill-color: #666;\n",
              "  }\n",
              "\n",
              "  .colab-df-quickchart {\n",
              "    background-color: var(--bg-color);\n",
              "    border: none;\n",
              "    border-radius: 50%;\n",
              "    cursor: pointer;\n",
              "    display: none;\n",
              "    fill: var(--fill-color);\n",
              "    height: 32px;\n",
              "    padding: 0;\n",
              "    width: 32px;\n",
              "  }\n",
              "\n",
              "  .colab-df-quickchart:hover {\n",
              "    background-color: var(--hover-bg-color);\n",
              "    box-shadow: 0 1px 2px rgba(60, 64, 67, 0.3), 0 1px 3px 1px rgba(60, 64, 67, 0.15);\n",
              "    fill: var(--button-hover-fill-color);\n",
              "  }\n",
              "\n",
              "  .colab-df-quickchart-complete:disabled,\n",
              "  .colab-df-quickchart-complete:disabled:hover {\n",
              "    background-color: var(--disabled-bg-color);\n",
              "    fill: var(--disabled-fill-color);\n",
              "    box-shadow: none;\n",
              "  }\n",
              "\n",
              "  .colab-df-spinner {\n",
              "    border: 2px solid var(--fill-color);\n",
              "    border-color: transparent;\n",
              "    border-bottom-color: var(--fill-color);\n",
              "    animation:\n",
              "      spin 1s steps(1) infinite;\n",
              "  }\n",
              "\n",
              "  @keyframes spin {\n",
              "    0% {\n",
              "      border-color: transparent;\n",
              "      border-bottom-color: var(--fill-color);\n",
              "      border-left-color: var(--fill-color);\n",
              "    }\n",
              "    20% {\n",
              "      border-color: transparent;\n",
              "      border-left-color: var(--fill-color);\n",
              "      border-top-color: var(--fill-color);\n",
              "    }\n",
              "    30% {\n",
              "      border-color: transparent;\n",
              "      border-left-color: var(--fill-color);\n",
              "      border-top-color: var(--fill-color);\n",
              "      border-right-color: var(--fill-color);\n",
              "    }\n",
              "    40% {\n",
              "      border-color: transparent;\n",
              "      border-right-color: var(--fill-color);\n",
              "      border-top-color: var(--fill-color);\n",
              "    }\n",
              "    60% {\n",
              "      border-color: transparent;\n",
              "      border-right-color: var(--fill-color);\n",
              "    }\n",
              "    80% {\n",
              "      border-color: transparent;\n",
              "      border-right-color: var(--fill-color);\n",
              "      border-bottom-color: var(--fill-color);\n",
              "    }\n",
              "    90% {\n",
              "      border-color: transparent;\n",
              "      border-bottom-color: var(--fill-color);\n",
              "    }\n",
              "  }\n",
              "</style>\n",
              "\n",
              "  <script>\n",
              "    async function quickchart(key) {\n",
              "      const quickchartButtonEl =\n",
              "        document.querySelector('#' + key + ' button');\n",
              "      quickchartButtonEl.disabled = true;  // To prevent multiple clicks.\n",
              "      quickchartButtonEl.classList.add('colab-df-spinner');\n",
              "      try {\n",
              "        const charts = await google.colab.kernel.invokeFunction(\n",
              "            'suggestCharts', [key], {});\n",
              "      } catch (error) {\n",
              "        console.error('Error during call to suggestCharts:', error);\n",
              "      }\n",
              "      quickchartButtonEl.classList.remove('colab-df-spinner');\n",
              "      quickchartButtonEl.classList.add('colab-df-quickchart-complete');\n",
              "    }\n",
              "    (() => {\n",
              "      let quickchartButtonEl =\n",
              "        document.querySelector('#df-210fa0c3-15c4-47b1-ac0c-8966fe796f68 button');\n",
              "      quickchartButtonEl.style.display =\n",
              "        google.colab.kernel.accessAllowed ? 'block' : 'none';\n",
              "    })();\n",
              "  </script>\n",
              "</div>\n",
              "\n",
              "    </div>\n",
              "  </div>\n"
            ],
            "application/vnd.google.colaboratory.intrinsic+json": {
              "type": "dataframe",
              "variable_name": "data",
              "summary": "{\n  \"name\": \"data\",\n  \"rows\": 50530,\n  \"fields\": [\n    {\n      \"column\": \"Date/Time\",\n      \"properties\": {\n        \"dtype\": \"date\",\n        \"min\": \"2018-01-01 00:00:00\",\n        \"max\": \"2018-12-31 23:50:00\",\n        \"num_unique_values\": 50530,\n        \"samples\": [\n          \"2018-03-02 10:40:00\",\n          \"2018-03-02 11:00:00\",\n          \"2018-12-30 01:20:00\"\n        ],\n        \"semantic_type\": \"\",\n        \"description\": \"\"\n      }\n    },\n    {\n      \"column\": \"LV ActivePower (kW)\",\n      \"properties\": {\n        \"dtype\": \"number\",\n        \"std\": 1312.4592421268887,\n        \"min\": -2.47140502929687,\n        \"max\": 3618.73291015625,\n        \"num_unique_values\": 38764,\n        \"samples\": [\n          1263.52001953125,\n          632.466979980468,\n          1844.99304199218\n        ],\n        \"semantic_type\": \"\",\n        \"description\": \"\"\n      }\n    },\n    {\n      \"column\": \"Wind Speed (m/s)\",\n      \"properties\": {\n        \"dtype\": \"number\",\n        \"std\": 4.227166055611571,\n        \"min\": 0.0,\n        \"max\": 25.2060108184814,\n        \"num_unique_values\": 50305,\n        \"samples\": [\n          7.34985494613647,\n          16.721939086914,\n          5.16130685806274\n        ],\n        \"semantic_type\": \"\",\n        \"description\": \"\"\n      }\n    },\n    {\n      \"column\": \"Theoretical_Power_Curve (KWh)\",\n      \"properties\": {\n        \"dtype\": \"number\",\n        \"std\": 1368.0182378726727,\n        \"min\": 0.0,\n        \"max\": 3600.0,\n        \"num_unique_values\": 37157,\n        \"samples\": [\n          223.196784083793,\n          95.1098634048394,\n          246.586952314772\n        ],\n        \"semantic_type\": \"\",\n        \"description\": \"\"\n      }\n    },\n    {\n      \"column\": \"Wind Direction (\\u00b0)\",\n      \"properties\": {\n        \"dtype\": \"number\",\n        \"std\": 93.44373572772577,\n        \"min\": 0.0,\n        \"max\": 359.997589111328,\n        \"num_unique_values\": 50251,\n        \"samples\": [\n          325.33950805664,\n          27.7409992218017,\n          65.8802337646484\n        ],\n        \"semantic_type\": \"\",\n        \"description\": \"\"\n      }\n    },\n    {\n      \"column\": \"Week\",\n      \"properties\": {\n        \"dtype\": \"int32\",\n        \"num_unique_values\": 5,\n        \"samples\": [\n          2,\n          5,\n          3\n        ],\n        \"semantic_type\": \"\",\n        \"description\": \"\"\n      }\n    },\n    {\n      \"column\": \"Month\",\n      \"properties\": {\n        \"dtype\": \"int32\",\n        \"num_unique_values\": 12,\n        \"samples\": [\n          11,\n          10,\n          1\n        ],\n        \"semantic_type\": \"\",\n        \"description\": \"\"\n      }\n    },\n    {\n      \"column\": \"Seasons\",\n      \"properties\": {\n        \"dtype\": \"category\",\n        \"num_unique_values\": 4,\n        \"samples\": [\n          \"Spring\",\n          \"Autumn\",\n          \"Winter\"\n        ],\n        \"semantic_type\": \"\",\n        \"description\": \"\"\n      }\n    },\n    {\n      \"column\": \"Day\",\n      \"properties\": {\n        \"dtype\": \"int32\",\n        \"num_unique_values\": 31,\n        \"samples\": [\n          31,\n          16,\n          24\n        ],\n        \"semantic_type\": \"\",\n        \"description\": \"\"\n      }\n    },\n    {\n      \"column\": \"Hour\",\n      \"properties\": {\n        \"dtype\": \"int32\",\n        \"num_unique_values\": 24,\n        \"samples\": [\n          8,\n          16,\n          0\n        ],\n        \"semantic_type\": \"\",\n        \"description\": \"\"\n      }\n    },\n    {\n      \"column\": \"Failure Condition\",\n      \"properties\": {\n        \"dtype\": \"number\",\n        \"std\": 0,\n        \"min\": 0,\n        \"max\": 1,\n        \"num_unique_values\": 2,\n        \"samples\": [\n          1,\n          0\n        ],\n        \"semantic_type\": \"\",\n        \"description\": \"\"\n      }\n    }\n  ]\n}"
            }
          },
          "metadata": {},
          "execution_count": 68
        }
      ]
    },
    {
      "cell_type": "markdown",
      "source": [
        "# Handling Imbalanced dataset"
      ],
      "metadata": {
        "id": "X2X3R1gFp0Ew"
      },
      "id": "X2X3R1gFp0Ew"
    },
    {
      "cell_type": "code",
      "source": [
        "import collections\n",
        "from imblearn.over_sampling import SMOTE\n",
        "# Check the distribution of your classes\n",
        "print(collections.Counter(y))\n"
      ],
      "metadata": {
        "colab": {
          "base_uri": "https://localhost:8080/"
        },
        "id": "zOelXJvPpu06",
        "outputId": "c2879054-d900-415e-9a17-3f8863204450"
      },
      "id": "zOelXJvPpu06",
      "execution_count": 69,
      "outputs": [
        {
          "output_type": "stream",
          "name": "stdout",
          "text": [
            "Counter({np.int64(0): 47686, np.int64(1): 2844})\n"
          ]
        }
      ]
    },
    {
      "cell_type": "markdown",
      "source": [
        "## SMOTE for balancing the dataset"
      ],
      "metadata": {
        "id": "xf9b-4h4p49l"
      },
      "id": "xf9b-4h4p49l"
    },
    {
      "cell_type": "code",
      "source": [
        "# Identify classes with very few samples (e.g., 1 sample)\n",
        "unique_classes = collections.Counter(y)\n",
        "minority_classes = [cls for cls, count in unique_classes.items() if count == 1]\n",
        "print(\"Classes with only 1 sample:\", minority_classes)\n",
        "\n",
        "# Remove rows with classes that have only 1 sample\n",
        "data = data[~data['Failure Condition'].isin(minority_classes)]\n",
        "\n",
        "# Re-split features and target after removing problematic class\n",
        "X = data[['Month','Hour', 'Wind Speed (m/s)', 'Theoretical_Power_Curve (KWh)', 'Wind Direction (°)']]\n",
        "y = data['Failure Condition']\n",
        "\n",
        "# Apply SMOTE\n",
        "smote = SMOTE(random_state=42)\n",
        "X_smote, y_smote = smote.fit_resample(X, y)\n",
        "\n",
        "\n",
        "print(\"Class distribution after SMOTE:\", collections.Counter(y_smote))"
      ],
      "metadata": {
        "colab": {
          "base_uri": "https://localhost:8080/"
        },
        "id": "v7KkVIYnp9NG",
        "outputId": "25fa59f3-05f4-45d6-901e-8fee37498ddd"
      },
      "id": "v7KkVIYnp9NG",
      "execution_count": 70,
      "outputs": [
        {
          "output_type": "stream",
          "name": "stdout",
          "text": [
            "Classes with only 1 sample: []\n",
            "Class distribution after SMOTE: Counter({0: 47686, 1: 47686})\n"
          ]
        }
      ]
    },
    {
      "cell_type": "markdown",
      "source": [
        "# Deep learning algorithms"
      ],
      "metadata": {
        "id": "4j34RZJON8wG"
      },
      "id": "4j34RZJON8wG"
    },
    {
      "cell_type": "markdown",
      "source": [
        "# ALL  DEEP LEARNING MODELS with prediction"
      ],
      "metadata": {
        "id": "xQObWsr2K0X6"
      },
      "id": "xQObWsr2K0X6"
    },
    {
      "cell_type": "code",
      "source": [
        "import numpy as np\n",
        "import pandas as pd\n",
        "import tensorflow as tf\n",
        "from tensorflow.keras.models import Sequential\n",
        "from tensorflow.keras.layers import Dense, Conv1D, Flatten, LSTM, SimpleRNN, Dropout\n",
        "from tensorflow.keras.applications import VGG16, ResNet50, MobileNetV2\n",
        "from sklearn.model_selection import train_test_split\n",
        "from sklearn.preprocessing import StandardScaler, LabelEncoder\n",
        "from sklearn.metrics import confusion_matrix, classification_report, accuracy_score\n",
        "import seaborn as sns\n",
        "import matplotlib.pyplot as plt\n",
        "\n",
        "# ---- Load Data ---- #\n",
        "#data = pd.read_csv(\"T1.csv\")  # Change to your dataset\n",
        "\n",
        "# Select features and target\n",
        "X = data[['Month', 'Hour', 'Wind Speed (m/s)', 'Theoretical_Power_Curve (KWh)', 'Wind Direction (°)']]\n",
        "y = data['Failure Condition']  # Ensure this is categorical\n",
        "\n",
        "# Encode labels if classification\n",
        "encoder = LabelEncoder()\n",
        "y = encoder.fit_transform(y)  # Converts categorical labels to numbers\n",
        "\n",
        "# Train-test split\n",
        "X_train, X_test, y_train, y_test  = train_test_split(X_smote, y_smote, test_size=0.2, random_state=42)\n",
        "#X_train, X_test, y_train, y_test = train_test_split(X, y, test_size=0.2, random_state=42)\n",
        "\n",
        "# Normalize data\n",
        "scaler = StandardScaler()\n",
        "X_train = scaler.fit_transform(X_train)\n",
        "X_test = scaler.transform(X_test)\n",
        "\n",
        "# Reshape data for deep learning models\n",
        "X_train_cnn = X_train.reshape(X_train.shape[0], 1, X_train.shape[1])\n",
        "X_test_cnn = X_test.reshape(X_test.shape[0], 1, X_test.shape[1])\n",
        "\n",
        "X_train_lstm = X_train.reshape(X_train.shape[0], 5, 1)\n",
        "X_test_lstm = X_test.reshape(X_test.shape[0], 5, 1)\n",
        "\n",
        "# ---- Model Definitions ---- #\n",
        "models = {}\n",
        "\n",
        "# --- MLP Model --- #\n",
        "mlp = Sequential([\n",
        "    Dense(64, activation='relu', input_shape=(5,)),\n",
        "    Dropout(0.3),\n",
        "    Dense(32, activation='relu'),\n",
        "    Dense(1, activation='sigmoid')  # Binary classification\n",
        "])\n",
        "mlp.compile(optimizer='adam', loss='binary_crossentropy', metrics=['accuracy'])\n",
        "models[\"MLP\"] = mlp\n",
        "\n",
        "# --- CNN Model --- #\n",
        "cnn = Sequential([\n",
        "    Conv1D(filters=32, kernel_size=1, activation='relu', input_shape=(1, 5)),\n",
        "    Flatten(),\n",
        "    Dense(64, activation='relu'),\n",
        "    Dense(1, activation='sigmoid')\n",
        "])\n",
        "cnn.compile(optimizer='adam', loss='binary_crossentropy', metrics=['accuracy'])\n",
        "models[\"CNN\"] = cnn\n",
        "\n",
        "# --- LSTM Model --- #\n",
        "lstm = Sequential([\n",
        "    LSTM(50, activation='relu', input_shape=(5, 1), return_sequences=False),\n",
        "    Dense(32, activation='relu'),\n",
        "    Dense(1, activation='sigmoid')\n",
        "])\n",
        "lstm.compile(optimizer='adam', loss='binary_crossentropy', metrics=['accuracy'])\n",
        "models[\"LSTM\"] = lstm\n",
        "\n",
        "# --- RNN Model --- #\n",
        "rnn = Sequential([\n",
        "    SimpleRNN(50, activation='relu', input_shape=(5, 1), return_sequences=False),\n",
        "    Dense(32, activation='relu'),\n",
        "    Dense(1, activation='sigmoid')\n",
        "])\n",
        "rnn.compile(optimizer='adam', loss='binary_crossentropy', metrics=['accuracy'])\n",
        "models[\"RNN\"] = rnn\n",
        "\n",
        "# --- Hybrid CNN-LSTM Model --- #\n",
        "hybrid = Sequential([\n",
        "    Conv1D(filters=64, kernel_size=1, activation='relu', input_shape=(5, 1)),  # CNN Feature Extractor\n",
        "    LSTM(50, activation='relu', return_sequences=False),  # LSTM for sequence learning\n",
        "    Dense(32, activation='relu'),\n",
        "    Dense(1, activation='sigmoid')\n",
        "])\n",
        "hybrid.compile(optimizer='adam', loss='binary_crossentropy', metrics=['accuracy'])\n",
        "models[\"Hybrid CNN-LSTM\"] = hybrid\n",
        "\n",
        "# ---- Train and Evaluate Models ---- #\n",
        "history = {}\n",
        "accuracy_scores = {}\n",
        "\n",
        "for model_name, model in models.items():\n",
        "    print(f\"\\n Training {model_name} Model...\\n\")\n",
        "    X_train_data = X_train if model_name == \"MLP\" else X_train_cnn if model_name == \"CNN\" else X_train_lstm\n",
        "    X_test_data = X_test if model_name == \"MLP\" else X_test_cnn if model_name == \"CNN\" else X_test_lstm\n",
        "\n",
        "    model.fit(X_train_data, y_train, epochs=10, batch_size=32, validation_data=(X_test_data, y_test), verbose=1)\n",
        "\n",
        "    # Evaluate\n",
        "    y_pred = (model.predict(X_test_data) > 0.5).astype(int)\n",
        "    acc = accuracy_score(y_test, y_pred)\n",
        "    accuracy_scores[model_name] = acc\n",
        "\n",
        "    print(f\"\\n {model_name} Accuracy: {acc:.4f}\")\n",
        "    print(f\"\\n Classification Report:\\n{classification_report(y_test, y_pred)}\")\n",
        "    print(f\"\\n  Confusion Matrix:\")\n",
        "    sns.heatmap(confusion_matrix(y_test, y_pred), annot=True, fmt=\"d\", cmap=\"Blues\")\n",
        "    plt.show()\n",
        "\n",
        "# ---- Select Best Model ---- #\n",
        "best_model_name = max(accuracy_scores, key=accuracy_scores.get)\n",
        "best_model = models[best_model_name]\n",
        "print(f\"\\n Best Model: {best_model_name} with Accuracy: {accuracy_scores[best_model_name]:.4f}\")"
      ],
      "metadata": {
        "colab": {
          "base_uri": "https://localhost:8080/",
          "height": 1000
        },
        "id": "0ZjT1l1PKOOD",
        "outputId": "ae6865e0-b5c0-4a51-ef70-3fe2bc4be951"
      },
      "id": "0ZjT1l1PKOOD",
      "execution_count": 71,
      "outputs": [
        {
          "output_type": "stream",
          "name": "stdout",
          "text": [
            "\n",
            " Training MLP Model...\n",
            "\n",
            "Epoch 1/10\n"
          ]
        },
        {
          "output_type": "stream",
          "name": "stderr",
          "text": [
            "/usr/local/lib/python3.11/dist-packages/keras/src/layers/core/dense.py:87: UserWarning: Do not pass an `input_shape`/`input_dim` argument to a layer. When using Sequential models, prefer using an `Input(shape)` object as the first layer in the model instead.\n",
            "  super().__init__(activity_regularizer=activity_regularizer, **kwargs)\n",
            "/usr/local/lib/python3.11/dist-packages/keras/src/layers/convolutional/base_conv.py:107: UserWarning: Do not pass an `input_shape`/`input_dim` argument to a layer. When using Sequential models, prefer using an `Input(shape)` object as the first layer in the model instead.\n",
            "  super().__init__(activity_regularizer=activity_regularizer, **kwargs)\n",
            "/usr/local/lib/python3.11/dist-packages/keras/src/layers/rnn/rnn.py:200: UserWarning: Do not pass an `input_shape`/`input_dim` argument to a layer. When using Sequential models, prefer using an `Input(shape)` object as the first layer in the model instead.\n",
            "  super().__init__(**kwargs)\n"
          ]
        },
        {
          "output_type": "stream",
          "name": "stdout",
          "text": [
            "\u001b[1m2385/2385\u001b[0m \u001b[32m━━━━━━━━━━━━━━━━━━━━\u001b[0m\u001b[37m\u001b[0m \u001b[1m7s\u001b[0m 2ms/step - accuracy: 0.7124 - loss: 0.5617 - val_accuracy: 0.7976 - val_loss: 0.4405\n",
            "Epoch 2/10\n",
            "\u001b[1m2385/2385\u001b[0m \u001b[32m━━━━━━━━━━━━━━━━━━━━\u001b[0m\u001b[37m\u001b[0m \u001b[1m6s\u001b[0m 3ms/step - accuracy: 0.7970 - loss: 0.4409 - val_accuracy: 0.8305 - val_loss: 0.3917\n",
            "Epoch 3/10\n",
            "\u001b[1m2385/2385\u001b[0m \u001b[32m━━━━━━━━━━━━━━━━━━━━\u001b[0m\u001b[37m\u001b[0m \u001b[1m6s\u001b[0m 2ms/step - accuracy: 0.8198 - loss: 0.4052 - val_accuracy: 0.8401 - val_loss: 0.3692\n",
            "Epoch 4/10\n",
            "\u001b[1m2385/2385\u001b[0m \u001b[32m━━━━━━━━━━━━━━━━━━━━\u001b[0m\u001b[37m\u001b[0m \u001b[1m7s\u001b[0m 3ms/step - accuracy: 0.8318 - loss: 0.3837 - val_accuracy: 0.8469 - val_loss: 0.3566\n",
            "Epoch 5/10\n",
            "\u001b[1m2385/2385\u001b[0m \u001b[32m━━━━━━━━━━━━━━━━━━━━\u001b[0m\u001b[37m\u001b[0m \u001b[1m10s\u001b[0m 3ms/step - accuracy: 0.8363 - loss: 0.3750 - val_accuracy: 0.8527 - val_loss: 0.3482\n",
            "Epoch 6/10\n",
            "\u001b[1m2385/2385\u001b[0m \u001b[32m━━━━━━━━━━━━━━━━━━━━\u001b[0m\u001b[37m\u001b[0m \u001b[1m7s\u001b[0m 3ms/step - accuracy: 0.8392 - loss: 0.3668 - val_accuracy: 0.8495 - val_loss: 0.3458\n",
            "Epoch 7/10\n",
            "\u001b[1m2385/2385\u001b[0m \u001b[32m━━━━━━━━━━━━━━━━━━━━\u001b[0m\u001b[37m\u001b[0m \u001b[1m6s\u001b[0m 3ms/step - accuracy: 0.8450 - loss: 0.3613 - val_accuracy: 0.8571 - val_loss: 0.3385\n",
            "Epoch 8/10\n",
            "\u001b[1m2385/2385\u001b[0m \u001b[32m━━━━━━━━━━━━━━━━━━━━\u001b[0m\u001b[37m\u001b[0m \u001b[1m6s\u001b[0m 2ms/step - accuracy: 0.8469 - loss: 0.3541 - val_accuracy: 0.8559 - val_loss: 0.3385\n",
            "Epoch 9/10\n",
            "\u001b[1m2385/2385\u001b[0m \u001b[32m━━━━━━━━━━━━━━━━━━━━\u001b[0m\u001b[37m\u001b[0m \u001b[1m6s\u001b[0m 2ms/step - accuracy: 0.8484 - loss: 0.3533 - val_accuracy: 0.8639 - val_loss: 0.3269\n",
            "Epoch 10/10\n",
            "\u001b[1m2385/2385\u001b[0m \u001b[32m━━━━━━━━━━━━━━━━━━━━\u001b[0m\u001b[37m\u001b[0m \u001b[1m5s\u001b[0m 2ms/step - accuracy: 0.8499 - loss: 0.3496 - val_accuracy: 0.8623 - val_loss: 0.3277\n",
            "\u001b[1m597/597\u001b[0m \u001b[32m━━━━━━━━━━━━━━━━━━━━\u001b[0m\u001b[37m\u001b[0m \u001b[1m1s\u001b[0m 1ms/step  \n",
            "\n",
            " MLP Accuracy: 0.8623\n",
            "\n",
            " Classification Report:\n",
            "              precision    recall  f1-score   support\n",
            "\n",
            "           0       0.87      0.85      0.86      9538\n",
            "           1       0.86      0.87      0.86      9537\n",
            "\n",
            "    accuracy                           0.86     19075\n",
            "   macro avg       0.86      0.86      0.86     19075\n",
            "weighted avg       0.86      0.86      0.86     19075\n",
            "\n",
            "\n",
            "  Confusion Matrix:\n"
          ]
        },
        {
          "output_type": "display_data",
          "data": {
            "text/plain": [
              "<Figure size 640x480 with 2 Axes>"
            ],
            "image/png": "[encoded data removed]"
          },
          "metadata": {}
        },
        {
          "output_type": "stream",
          "name": "stdout",
          "text": [
            "\n",
            " Training CNN Model...\n",
            "\n",
            "Epoch 1/10\n",
            "\u001b[1m2385/2385\u001b[0m \u001b[32m━━━━━━━━━━━━━━━━━━━━\u001b[0m\u001b[37m\u001b[0m \u001b[1m8s\u001b[0m 3ms/step - accuracy: 0.7279 - loss: 0.5383 - val_accuracy: 0.7918 - val_loss: 0.4426\n",
            "Epoch 2/10\n",
            "\u001b[1m2385/2385\u001b[0m \u001b[32m━━━━━━━━━━━━━━━━━━━━\u001b[0m\u001b[37m\u001b[0m \u001b[1m9s\u001b[0m 2ms/step - accuracy: 0.8151 - loss: 0.4172 - val_accuracy: 0.8290 - val_loss: 0.3865\n",
            "Epoch 3/10\n",
            "\u001b[1m2385/2385\u001b[0m \u001b[32m━━━━━━━━━━━━━━━━━━━━\u001b[0m\u001b[37m\u001b[0m \u001b[1m6s\u001b[0m 3ms/step - accuracy: 0.8415 - loss: 0.3709 - val_accuracy: 0.8460 - val_loss: 0.3635\n",
            "Epoch 4/10\n",
            "\u001b[1m2385/2385\u001b[0m \u001b[32m━━━━━━━━━━━━━━━━━━━━\u001b[0m\u001b[37m\u001b[0m \u001b[1m5s\u001b[0m 2ms/step - accuracy: 0.8521 - loss: 0.3506 - val_accuracy: 0.8566 - val_loss: 0.3416\n",
            "Epoch 5/10\n",
            "\u001b[1m2385/2385\u001b[0m \u001b[32m━━━━━━━━━━━━━━━━━━━━\u001b[0m\u001b[37m\u001b[0m \u001b[1m6s\u001b[0m 3ms/step - accuracy: 0.8580 - loss: 0.3350 - val_accuracy: 0.8581 - val_loss: 0.3339\n",
            "Epoch 6/10\n",
            "\u001b[1m2385/2385\u001b[0m \u001b[32m━━━━━━━━━━━━━━━━━━━━\u001b[0m\u001b[37m\u001b[0m \u001b[1m10s\u001b[0m 2ms/step - accuracy: 0.8614 - loss: 0.3275 - val_accuracy: 0.8599 - val_loss: 0.3292\n",
            "Epoch 7/10\n",
            "\u001b[1m2385/2385\u001b[0m \u001b[32m━━━━━━━━━━━━━━━━━━━━\u001b[0m\u001b[37m\u001b[0m \u001b[1m6s\u001b[0m 2ms/step - accuracy: 0.8631 - loss: 0.3196 - val_accuracy: 0.8630 - val_loss: 0.3202\n",
            "Epoch 8/10\n",
            "\u001b[1m2385/2385\u001b[0m \u001b[32m━━━━━━━━━━━━━━━━━━━━\u001b[0m\u001b[37m\u001b[0m \u001b[1m6s\u001b[0m 2ms/step - accuracy: 0.8616 - loss: 0.3196 - val_accuracy: 0.8607 - val_loss: 0.3260\n",
            "Epoch 9/10\n",
            "\u001b[1m2385/2385\u001b[0m \u001b[32m━━━━━━━━━━━━━━━━━━━━\u001b[0m\u001b[37m\u001b[0m \u001b[1m6s\u001b[0m 3ms/step - accuracy: 0.8661 - loss: 0.3147 - val_accuracy: 0.8598 - val_loss: 0.3243\n",
            "Epoch 10/10\n",
            "\u001b[1m2385/2385\u001b[0m \u001b[32m━━━━━━━━━━━━━━━━━━━━\u001b[0m\u001b[37m\u001b[0m \u001b[1m11s\u001b[0m 3ms/step - accuracy: 0.8689 - loss: 0.3077 - val_accuracy: 0.8634 - val_loss: 0.3178\n",
            "\u001b[1m597/597\u001b[0m \u001b[32m━━━━━━━━━━━━━━━━━━━━\u001b[0m\u001b[37m\u001b[0m \u001b[1m1s\u001b[0m 1ms/step\n",
            "\n",
            " CNN Accuracy: 0.8634\n",
            "\n",
            " Classification Report:\n",
            "              precision    recall  f1-score   support\n",
            "\n",
            "           0       0.84      0.89      0.87      9538\n",
            "           1       0.88      0.84      0.86      9537\n",
            "\n",
            "    accuracy                           0.86     19075\n",
            "   macro avg       0.86      0.86      0.86     19075\n",
            "weighted avg       0.86      0.86      0.86     19075\n",
            "\n",
            "\n",
            "  Confusion Matrix:\n"
          ]
        },
        {
          "output_type": "display_data",
          "data": {
            "text/plain": [
              "<Figure size 640x480 with 2 Axes>"
            ],
            "image/png": "[encoded data removed]"
          },
          "metadata": {}
        },
        {
          "output_type": "stream",
          "name": "stdout",
          "text": [
            "\n",
            " Training LSTM Model...\n",
            "\n",
            "Epoch 1/10\n",
            "\u001b[1m2385/2385\u001b[0m \u001b[32m━━━━━━━━━━━━━━━━━━━━\u001b[0m\u001b[37m\u001b[0m \u001b[1m14s\u001b[0m 5ms/step - accuracy: 0.7070 - loss: 0.5798 - val_accuracy: 0.7664 - val_loss: 0.4849\n",
            "Epoch 2/10\n",
            "\u001b[1m2385/2385\u001b[0m \u001b[32m━━━━━━━━━━━━━━━━━━━━\u001b[0m\u001b[37m\u001b[0m \u001b[1m20s\u001b[0m 5ms/step - accuracy: 0.7786 - loss: 0.4655 - val_accuracy: 0.8216 - val_loss: 0.4083\n",
            "Epoch 3/10\n",
            "\u001b[1m2385/2385\u001b[0m \u001b[32m━━━━━━━━━━━━━━━━━━━━\u001b[0m\u001b[37m\u001b[0m \u001b[1m11s\u001b[0m 5ms/step - accuracy: 0.8317 - loss: 0.3854 - val_accuracy: 0.8490 - val_loss: 0.3612\n",
            "Epoch 4/10\n",
            "\u001b[1m2385/2385\u001b[0m \u001b[32m━━━━━━━━━━━━━━━━━━━━\u001b[0m\u001b[37m\u001b[0m \u001b[1m20s\u001b[0m 4ms/step - accuracy: 0.8458 - loss: 0.3539 - val_accuracy: 0.8535 - val_loss: 0.3467\n",
            "Epoch 5/10\n",
            "\u001b[1m2385/2385\u001b[0m \u001b[32m━━━━━━━━━━━━━━━━━━━━\u001b[0m\u001b[37m\u001b[0m \u001b[1m11s\u001b[0m 5ms/step - accuracy: 0.8548 - loss: 0.3373 - val_accuracy: 0.8552 - val_loss: 0.3385\n",
            "Epoch 6/10\n",
            "\u001b[1m2385/2385\u001b[0m \u001b[32m━━━━━━━━━━━━━━━━━━━━\u001b[0m\u001b[37m\u001b[0m \u001b[1m20s\u001b[0m 4ms/step - accuracy: 0.8580 - loss: 0.3302 - val_accuracy: 0.8589 - val_loss: 0.3258\n",
            "Epoch 7/10\n",
            "\u001b[1m2385/2385\u001b[0m \u001b[32m━━━━━━━━━━━━━━━━━━━━\u001b[0m\u001b[37m\u001b[0m \u001b[1m20s\u001b[0m 4ms/step - accuracy: 0.8634 - loss: 0.3165 - val_accuracy: 0.8669 - val_loss: 0.3166\n",
            "Epoch 8/10\n",
            "\u001b[1m2385/2385\u001b[0m \u001b[32m━━━━━━━━━━━━━━━━━━━━\u001b[0m\u001b[37m\u001b[0m \u001b[1m11s\u001b[0m 4ms/step - accuracy: 0.8672 - loss: 0.3137 - val_accuracy: 0.8687 - val_loss: 0.3074\n",
            "Epoch 9/10\n",
            "\u001b[1m2385/2385\u001b[0m \u001b[32m━━━━━━━━━━━━━━━━━━━━\u001b[0m\u001b[37m\u001b[0m \u001b[1m21s\u001b[0m 5ms/step - accuracy: 0.8705 - loss: 0.3034 - val_accuracy: 0.8745 - val_loss: 0.3043\n",
            "Epoch 10/10\n",
            "\u001b[1m2385/2385\u001b[0m \u001b[32m━━━━━━━━━━━━━━━━━━━━\u001b[0m\u001b[37m\u001b[0m \u001b[1m20s\u001b[0m 4ms/step - accuracy: 0.8709 - loss: 0.3037 - val_accuracy: 0.8736 - val_loss: 0.2972\n",
            "\u001b[1m597/597\u001b[0m \u001b[32m━━━━━━━━━━━━━━━━━━━━\u001b[0m\u001b[37m\u001b[0m \u001b[1m2s\u001b[0m 3ms/step\n",
            "\n",
            " LSTM Accuracy: 0.8736\n",
            "\n",
            " Classification Report:\n",
            "              precision    recall  f1-score   support\n",
            "\n",
            "           0       0.87      0.88      0.87      9538\n",
            "           1       0.88      0.87      0.87      9537\n",
            "\n",
            "    accuracy                           0.87     19075\n",
            "   macro avg       0.87      0.87      0.87     19075\n",
            "weighted avg       0.87      0.87      0.87     19075\n",
            "\n",
            "\n",
            "  Confusion Matrix:\n"
          ]
        },
        {
          "output_type": "display_data",
          "data": {
            "text/plain": [
              "<Figure size 640x480 with 2 Axes>"
            ],
            "image/png": "[encoded data removed]"
          },
          "metadata": {}
        },
        {
          "output_type": "stream",
          "name": "stdout",
          "text": [
            "\n",
            " Training RNN Model...\n",
            "\n",
            "Epoch 1/10\n",
            "\u001b[1m2385/2385\u001b[0m \u001b[32m━━━━━━━━━━━━━━━━━━━━\u001b[0m\u001b[37m\u001b[0m \u001b[1m10s\u001b[0m 3ms/step - accuracy: 0.7433 - loss: 0.5095 - val_accuracy: 0.8350 - val_loss: 0.3825\n",
            "Epoch 2/10\n",
            "\u001b[1m2385/2385\u001b[0m \u001b[32m━━━━━━━━━━━━━━━━━━━━\u001b[0m\u001b[37m\u001b[0m \u001b[1m9s\u001b[0m 4ms/step - accuracy: 0.8399 - loss: 0.3686 - val_accuracy: 0.8492 - val_loss: 0.3448\n",
            "Epoch 3/10\n",
            "\u001b[1m2385/2385\u001b[0m \u001b[32m━━━━━━━━━━━━━━━━━━━━\u001b[0m\u001b[37m\u001b[0m \u001b[1m10s\u001b[0m 4ms/step - accuracy: 0.8571 - loss: 0.3375 - val_accuracy: 0.8615 - val_loss: 0.3255\n",
            "Epoch 4/10\n",
            "\u001b[1m2385/2385\u001b[0m \u001b[32m━━━━━━━━━━━━━━━━━━━━\u001b[0m\u001b[37m\u001b[0m \u001b[1m10s\u001b[0m 4ms/step - accuracy: 0.8653 - loss: 0.3209 - val_accuracy: 0.8678 - val_loss: 0.3079\n",
            "Epoch 5/10\n",
            "\u001b[1m2385/2385\u001b[0m \u001b[32m━━━━━━━━━━━━━━━━━━━━\u001b[0m\u001b[37m\u001b[0m \u001b[1m9s\u001b[0m 3ms/step - accuracy: 0.8699 - loss: 0.3091 - val_accuracy: 0.8695 - val_loss: 0.3120\n",
            "Epoch 6/10\n",
            "\u001b[1m2385/2385\u001b[0m \u001b[32m━━━━━━━━━━━━━━━━━━━━\u001b[0m\u001b[37m\u001b[0m \u001b[1m10s\u001b[0m 3ms/step - accuracy: 0.8741 - loss: 0.2985 - val_accuracy: 0.8756 - val_loss: 0.2927\n",
            "Epoch 7/10\n",
            "\u001b[1m2385/2385\u001b[0m \u001b[32m━━━━━━━━━━━━━━━━━━━━\u001b[0m\u001b[37m\u001b[0m \u001b[1m9s\u001b[0m 4ms/step - accuracy: 0.8758 - loss: 0.2964 - val_accuracy: 0.8748 - val_loss: 0.2990\n",
            "Epoch 8/10\n",
            "\u001b[1m2385/2385\u001b[0m \u001b[32m━━━━━━━━━━━━━━━━━━━━\u001b[0m\u001b[37m\u001b[0m \u001b[1m8s\u001b[0m 3ms/step - accuracy: 0.8803 - loss: 0.2879 - val_accuracy: 0.8790 - val_loss: 0.2929\n",
            "Epoch 9/10\n",
            "\u001b[1m2385/2385\u001b[0m \u001b[32m━━━━━━━━━━━━━━━━━━━━\u001b[0m\u001b[37m\u001b[0m \u001b[1m10s\u001b[0m 3ms/step - accuracy: 0.8820 - loss: 0.2819 - val_accuracy: 0.8783 - val_loss: 0.2906\n",
            "Epoch 10/10\n",
            "\u001b[1m2385/2385\u001b[0m \u001b[32m━━━━━━━━━━━━━━━━━━━━\u001b[0m\u001b[37m\u001b[0m \u001b[1m9s\u001b[0m 4ms/step - accuracy: 0.8821 - loss: 0.2812 - val_accuracy: 0.8771 - val_loss: 0.2920\n",
            "\u001b[1m597/597\u001b[0m \u001b[32m━━━━━━━━━━━━━━━━━━━━\u001b[0m\u001b[37m\u001b[0m \u001b[1m1s\u001b[0m 2ms/step\n",
            "\n",
            " RNN Accuracy: 0.8771\n",
            "\n",
            " Classification Report:\n",
            "              precision    recall  f1-score   support\n",
            "\n",
            "           0       0.90      0.84      0.87      9538\n",
            "           1       0.85      0.91      0.88      9537\n",
            "\n",
            "    accuracy                           0.88     19075\n",
            "   macro avg       0.88      0.88      0.88     19075\n",
            "weighted avg       0.88      0.88      0.88     19075\n",
            "\n",
            "\n",
            "  Confusion Matrix:\n"
          ]
        },
        {
          "output_type": "display_data",
          "data": {
            "text/plain": [
              "<Figure size 640x480 with 2 Axes>"
            ],
            "image/png": "[encoded data removed]"
          },
          "metadata": {}
        },
        {
          "output_type": "stream",
          "name": "stdout",
          "text": [
            "\n",
            " Training Hybrid CNN-LSTM Model...\n",
            "\n",
            "Epoch 1/10\n",
            "\u001b[1m2385/2385\u001b[0m \u001b[32m━━━━━━━━━━━━━━━━━━━━\u001b[0m\u001b[37m\u001b[0m \u001b[1m16s\u001b[0m 5ms/step - accuracy: 0.7198 - loss: 0.5495 - val_accuracy: 0.8228 - val_loss: 0.3934\n",
            "Epoch 2/10\n",
            "\u001b[1m2385/2385\u001b[0m \u001b[32m━━━━━━━━━━━━━━━━━━━━\u001b[0m\u001b[37m\u001b[0m \u001b[1m13s\u001b[0m 5ms/step - accuracy: 0.8352 - loss: 0.3750 - val_accuracy: 0.8523 - val_loss: 0.3478\n",
            "Epoch 3/10\n",
            "\u001b[1m2385/2385\u001b[0m \u001b[32m━━━━━━━━━━━━━━━━━━━━\u001b[0m\u001b[37m\u001b[0m \u001b[1m12s\u001b[0m 5ms/step - accuracy: 0.8558 - loss: 0.3342 - val_accuracy: 0.8635 - val_loss: 0.3203\n",
            "Epoch 4/10\n",
            "\u001b[1m2385/2385\u001b[0m \u001b[32m━━━━━━━━━━━━━━━━━━━━\u001b[0m\u001b[37m\u001b[0m \u001b[1m20s\u001b[0m 5ms/step - accuracy: 0.8624 - loss: 0.3162 - val_accuracy: 0.8704 - val_loss: 0.3060\n",
            "Epoch 5/10\n",
            "\u001b[1m2385/2385\u001b[0m \u001b[32m━━━━━━━━━━━━━━━━━━━━\u001b[0m\u001b[37m\u001b[0m \u001b[1m12s\u001b[0m 5ms/step - accuracy: 0.8714 - loss: 0.2995 - val_accuracy: 0.8761 - val_loss: 0.2965\n",
            "Epoch 6/10\n",
            "\u001b[1m2385/2385\u001b[0m \u001b[32m━━━━━━━━━━━━━━━━━━━━\u001b[0m\u001b[37m\u001b[0m \u001b[1m12s\u001b[0m 5ms/step - accuracy: 0.8769 - loss: 0.2912 - val_accuracy: 0.8809 - val_loss: 0.2852\n",
            "Epoch 7/10\n",
            "\u001b[1m2385/2385\u001b[0m \u001b[32m━━━━━━━━━━━━━━━━━━━━\u001b[0m\u001b[37m\u001b[0m \u001b[1m21s\u001b[0m 5ms/step - accuracy: 0.8804 - loss: 0.2828 - val_accuracy: 0.8809 - val_loss: 0.2816\n",
            "Epoch 8/10\n",
            "\u001b[1m2385/2385\u001b[0m \u001b[32m━━━━━━━━━━━━━━━━━━━━\u001b[0m\u001b[37m\u001b[0m \u001b[1m12s\u001b[0m 5ms/step - accuracy: 0.8857 - loss: 0.2733 - val_accuracy: 0.8834 - val_loss: 0.2775\n",
            "Epoch 9/10\n",
            "\u001b[1m2385/2385\u001b[0m \u001b[32m━━━━━━━━━━━━━━━━━━━━\u001b[0m\u001b[37m\u001b[0m \u001b[1m12s\u001b[0m 5ms/step - accuracy: 0.8878 - loss: 0.2632 - val_accuracy: 0.8853 - val_loss: 0.2733\n",
            "Epoch 10/10\n",
            "\u001b[1m2385/2385\u001b[0m \u001b[32m━━━━━━━━━━━━━━━━━━━━\u001b[0m\u001b[37m\u001b[0m \u001b[1m12s\u001b[0m 5ms/step - accuracy: 0.8907 - loss: 0.2574 - val_accuracy: 0.8941 - val_loss: 0.2574\n",
            "\u001b[1m597/597\u001b[0m \u001b[32m━━━━━━━━━━━━━━━━━━━━\u001b[0m\u001b[37m\u001b[0m \u001b[1m2s\u001b[0m 3ms/step\n",
            "\n",
            " Hybrid CNN-LSTM Accuracy: 0.8941\n",
            "\n",
            " Classification Report:\n",
            "              precision    recall  f1-score   support\n",
            "\n",
            "           0       0.91      0.88      0.89      9538\n",
            "           1       0.88      0.91      0.90      9537\n",
            "\n",
            "    accuracy                           0.89     19075\n",
            "   macro avg       0.89      0.89      0.89     19075\n",
            "weighted avg       0.89      0.89      0.89     19075\n",
            "\n",
            "\n",
            "  Confusion Matrix:\n"
          ]
        },
        {
          "output_type": "display_data",
          "data": {
            "text/plain": [
              "<Figure size 640x480 with 2 Axes>"
            ],
            "image/png": "[encoded data removed]"
          },
          "metadata": {}
        },
        {
          "output_type": "stream",
          "name": "stdout",
          "text": [
            "\n",
            " Best Model: Hybrid CNN-LSTM with Accuracy: 0.8941\n"
          ]
        }
      ]
    },
    {
      "cell_type": "code",
      "source": [
        " # Display results\n",
        "print(f\"\\n {model_name} Accuracy: {acc:.4f}\")\n",
        "print(f\"\\n Classification Report:\\n{classification_report(y_test, y_pred)}\")\n",
        "\n",
        "# Confusion Matrix\n",
        "plt.figure(figsize=(5, 4))\n",
        "sns.heatmap(confusion_matrix(y_test, y_pred), annot=True, fmt=\"d\", cmap=\"Blues\")\n",
        "plt.title(f\"{model_name} - Confusion Matrix\")\n",
        "plt.xlabel(\"Predicted\")\n",
        "plt.ylabel(\"Actual\")\n",
        "plt.show()\n",
        "\n",
        "# ---- Plot Accuracy Scores ---- #\n",
        "plt.figure(figsize=(10, 5))\n",
        "plt.bar(accuracy_scores.keys(), accuracy_scores.values(), color=['blue', 'orange', 'green', 'red', 'purple'])\n",
        "plt.xlabel(\"Model\")\n",
        "plt.ylabel(\"Accuracy\")\n",
        "plt.title(\"Model Accuracy Comparison\")\n",
        "plt.ylim([0, 1])\n",
        "plt.xticks(rotation=45)\n",
        "plt.show()\n"
      ],
      "metadata": {
        "colab": {
          "base_uri": "https://localhost:8080/",
          "height": 1000
        },
        "id": "sTBrwRfcQCvh",
        "outputId": "56d53d84-6a0e-44e2-b9b3-1a88c0755143"
      },
      "id": "sTBrwRfcQCvh",
      "execution_count": 72,
      "outputs": [
        {
          "output_type": "stream",
          "name": "stdout",
          "text": [
            "\n",
            " Hybrid CNN-LSTM Accuracy: 0.8941\n",
            "\n",
            " Classification Report:\n",
            "              precision    recall  f1-score   support\n",
            "\n",
            "           0       0.91      0.88      0.89      9538\n",
            "           1       0.88      0.91      0.90      9537\n",
            "\n",
            "    accuracy                           0.89     19075\n",
            "   macro avg       0.89      0.89      0.89     19075\n",
            "weighted avg       0.89      0.89      0.89     19075\n",
            "\n"
          ]
        },
        {
          "output_type": "display_data",
          "data": {
            "text/plain": [
              "<Figure size 500x400 with 2 Axes>"
            ],
            "image/png": "[encoded data removed]"
          },
          "metadata": {}
        },
        {
          "output_type": "display_data",
          "data": {
            "text/plain": [
              "<Figure size 1000x500 with 1 Axes>"
            ],
            "image/png": "[encoded data removed]"
          },
          "metadata": {}
        }
      ]
    },
    {
      "source": [
        "# ---- Load New Test Data & Predict ---- #\n",
        "new_test_data = pd.read_csv(\"/content/new_test_data.csv\")\n",
        "# Select only the features used during training\n",
        "features = ['Month', 'Hour', 'Wind Speed (m/s)', 'Theoretical_Power_Curve (KWh)', 'Wind Direction (°)']\n",
        "new_test_data_for_prediction = new_test_data[features]\n",
        "\n",
        "# Scale the new test data using only the relevant features\n",
        "new_test_data_scaled = scaler.transform(new_test_data_for_prediction)\n",
        "\n",
        "# Reshape for the best model (if necessary)\n",
        "if best_model_name in [\"CNN\"]:\n",
        "    new_test_data_scaled = new_test_data_scaled.reshape(new_test_data_scaled.shape[0], 1, new_test_data_scaled.shape[1])\n",
        "elif best_model_name in [\"LSTM\", \"RNN\", \"Hybrid CNN-LSTM\"]: # Include 'Hybrid CNN-LSTM' here\n",
        "    new_test_data_scaled = new_test_data_scaled.reshape(new_test_data_scaled.shape[0], 5, 1) # Reshape to (samples, timesteps, features)\n",
        "\n",
        "# Make predictions using the best model\n",
        "new_predictions = (best_model.predict(new_test_data_scaled) > 0.5).astype(int)\n",
        "\n",
        "# Decode labels if classification\n",
        "new_predictions = encoder.inverse_transform(new_predictions.flatten())\n",
        "\n",
        "# Convert new predictions to a DataFrame\n",
        "new_test_data[\"Predicted Failure Condition\"] = new_predictions  # Add predictions as a new column\n",
        "\n",
        "# Save combined data\n",
        "new_test_data.to_csv(\"combined_predictions.csv\", index=False)\n",
        "\n",
        "print(\"\\n✅ Combined Predictions saved to 'combined_predictions.csv'\")\n",
        "print(new_test_data)"
      ],
      "cell_type": "code",
      "metadata": {
        "colab": {
          "base_uri": "https://localhost:8080/"
        },
        "id": "Sv0qSMOQb4AT",
        "outputId": "b198d7e2-316f-4d27-96a3-70890edf3343"
      },
      "id": "Sv0qSMOQb4AT",
      "execution_count": 73,
      "outputs": [
        {
          "output_type": "stream",
          "name": "stdout",
          "text": [
            "\u001b[1m1/1\u001b[0m \u001b[32m━━━━━━━━━━━━━━━━━━━━\u001b[0m\u001b[37m\u001b[0m \u001b[1m0s\u001b[0m 55ms/step\n",
            "\n",
            "✅ Combined Predictions saved to 'combined_predictions.csv'\n",
            "       Month      Hour  Wind Speed (m/s)  Theoretical_Power_Curve (KWh)  \\\n",
            "0  -1.615578 -1.660864         -0.531476                      -0.786435   \n",
            "1  -1.615578 -1.660864         -0.446115                      -0.710712   \n",
            "2  -1.615578 -1.660864         -0.554021                      -0.805023   \n",
            "3  -1.615578 -1.660864         -0.449071                      -0.713483   \n",
            "4  -1.615578 -1.660864         -0.468406                      -0.731337   \n",
            "5  -1.615578 -1.660864         -0.462229                      -0.725684   \n",
            "6  -1.615578 -1.516659         -0.417528                      -0.683333   \n",
            "7  -1.615578 -1.516659         -0.532727                      -0.787481   \n",
            "8  -1.615578  0.502216         -0.902421                      -1.029375   \n",
            "9  -1.615578  0.646421         -1.070219                      -1.078209   \n",
            "10 -1.615578  0.646421         -1.031576                      -1.072178   \n",
            "11 -1.615578  0.790626         -0.863505                      -1.009643   \n",
            "12 -1.615578  0.213805         -0.973770                      -1.057330   \n",
            "13 -1.615578  0.502216         -0.567270                      -0.815689   \n",
            "14 -1.615578  0.502216         -0.566929                      -0.815417   \n",
            "15 -1.615578  0.502216         -0.506957                      -0.765570   \n",
            "16 -1.615578  0.502216         -0.184364                      -0.418716   \n",
            "17 -1.615578  0.502216         -0.738341                      -0.938166   \n",
            "18 -1.615578 -0.651427         -0.898286                      -1.027428   \n",
            "\n",
            "    Wind Direction (°)  Fail  Predicted Failure Condition  \n",
            "0             1.458725     0                            0  \n",
            "1             1.551254     0                            0  \n",
            "2             1.593244     0                            0  \n",
            "3             1.579260     0                            0  \n",
            "4             1.519504     0                            0  \n",
            "5             1.507778     0                            0  \n",
            "6             1.524741     0                            0  \n",
            "7             1.436835     0                            0  \n",
            "8             1.298983     1                            0  \n",
            "9             1.042337     1                            0  \n",
            "10            1.166404     1                            0  \n",
            "11            1.265860     1                            0  \n",
            "12           -0.477227     1                            0  \n",
            "13           -0.447487     1                            0  \n",
            "14           -0.655011     1                            0  \n",
            "15           -0.664150     1                            0  \n",
            "16           -0.596300     1                            0  \n",
            "17           -1.323671     1                            0  \n",
            "18           -0.550148     1                            0  \n"
          ]
        }
      ]
    }
  ],
  "metadata": {
    "kaggle": {
      "accelerator": "none",
      "dataSources": [
        {
          "datasetId": 133415,
          "sourceId": 317642,
          "sourceType": "datasetVersion"
        }
      ],
      "dockerImageVersionId": 30746,
      "isGpuEnabled": false,
      "isInternetEnabled": true,
      "language": "python",
      "sourceType": "notebook"
    },
    "kernelspec": {
      "display_name": "Python 3",
      "language": "python",
      "name": "python3"
    },
    "language_info": {
      "codemirror_mode": {
        "name": "ipython",
        "version": 3
      },
      "file_extension": ".py",
      "mimetype": "text/x-python",
      "name": "python",
      "nbconvert_exporter": "python",
      "pygments_lexer": "ipython3",
      "version": "3.10.13"
    },
    "papermill": {
      "default_parameters": {},
      "duration": 38.178099,
      "end_time": "2024-07-17T18:23:32.940993",
      "environment_variables": {},
      "exception": null,
      "input_path": "__notebook__.ipynb",
      "output_path": "__notebook__.ipynb",
      "parameters": {},
      "start_time": "2024-07-17T18:22:54.762894",
      "version": "2.5.0"
    },
    "colab": {
      "provenance": [],
      "collapsed_sections": [
        "f246f7a2",
        "859c81a0",
        "X2X3R1gFp0Ew"
      ]
    }
  },
  "nbformat": 4,
  "nbformat_minor": 5
}